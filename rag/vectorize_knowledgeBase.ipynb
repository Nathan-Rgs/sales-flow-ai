{
 "cells": [
  {
   "cell_type": "markdown",
   "id": "dfe37963-1af6-44fc-a841-8e462443f5e6",
   "metadata": {},
   "source": [
    "## Expert Knowledge Worker\n",
    "\n",
    "### A question answering agent that is an expert knowledge worker\n",
    "### To be used by employees of Insurellm, an Insurance Tech company\n",
    "### The agent needs to be accurate and the solution should be low cost.\n",
    "\n",
    "This project will use RAG (Retrieval Augmented Generation) to ensure our question/answering assistant has high accuracy."
   ]
  },
  {
   "cell_type": "code",
   "execution_count": 2,
   "id": "730711a9-6ffe-4eee-8f48-d6cfb7314905",
   "metadata": {},
   "outputs": [
    {
     "name": "stdout",
     "output_type": "stream",
     "text": [
      "[DirectoryLoader] Carregando de: about\n",
      "[DirectoryLoader] Carregando de: products\n",
      "Total de documentos carregados: 12\n",
      "[Document(metadata={'source': '..\\\\preprocessing\\\\knowledge-base\\\\about\\\\Estratégia de Expansão - GPT.md', 'doc_type': 'about'}, page_content='# Expansão da Operação e Aumento do Faturamento\\n\\n## 1. Diagnóstico Inicial\\n\\n- Atuação no Brasil com foco em mandriladoras portáteis para reparo em campo.\\n- Leads gerados por Google Ads, indicações e repasses do fabricante.\\n- Vendas apenas para leads inbound, sem cold call.\\n- Concorrência com produtos mais baratos (menor qualidade) ou mais caros.\\n- Nichos: mineradoras e construção civil.\\n- Oferece suporte pós-venda e peças de reposição.\\n- Não realiza aluguel nem financiamento próprio (somente via bancos).\\n\\n## 2. Estruturação Interna\\n\\n- **Playbook de Vendas**: Padroniza atendimento e melhora conversão.\\n- **Bot WhatsApp**: Automatiza triagem e qualificação inicial.\\n- **CRM (RD Station)**: Gerencia leads, etapas e interações.\\n\\n## 3. Geração de Leads\\n\\n- **Conteúdo Estratégico**: Artigos, vídeos e posts para atrair leads qualificados.\\n- **Parcerias**: Influenciadores e técnicos do setor.\\n- **Google Ads e SEO**: Campanhas segmentadas + otimização de landing pages.\\n\\n## 4. Argumentação para Objeções\\n\\n- **Objeções Comuns**: Preço, parcelas, baixa demanda, aprovação interna.\\n- **Estratégia**: Guia de respostas + simulações de ROI + urgência na proposta.\\n\\n## 5. Materiais de Suporte para Vendas\\n\\n- **Vídeos**: Demonstração técnica, diferenças vs concorrentes, FAQ.\\n- **Estudo de Caso**: Problema real + solução + resultados mensuráveis.\\n- **Apresentação Institucional**: PDF com comparações técnicas e diferenciais.\\n- **Documento de ROI**: Economia por ano + tempo de retorno estimado.\\n- **Proposta Comercial**: Visual profissional + condições claras.\\n\\n## 6. Prospecção Ativa\\n\\n- **Roteiro de Abordagem**: WhatsApp, telefone, e-mail e LinkedIn.\\n- **Script de Qualificação**: Segmento, desafio, decisores, prazos.\\n- **Classificação**: Lead qualificado, em nutrição ou desqualificado.\\n\\n## 7. Expansão em Grandes Empresas\\n\\n- **Foco em Contas Estratégicas**: Mineração, indústria pesada.\\n- **Materiais Personalizados**: Estudos de caso, ROI, propostas customizadas.\\n\\n## 8. Pós-Venda e LTV\\n\\n- **Fluxo de Follow-Up**: Contato em 7, 30, 90, 180 dias.\\n- **Conteúdo exclusivo**: Boas práticas, dicas de manutenção, newsletter.\\n- **Campanhas de Recompra**: Peças e upgrades.\\n- **Indicação**: Comissão e mensagem pronta para clientes encaminharem.\\n\\n## 9. Modelo Híbrido de Expansão\\n\\n### Representantes Comerciais\\n\\n- Presença em Sul e Nordeste.\\n- Treinamento com base no playbook.\\n- Comissão por venda com possível bônus por volume.\\n\\n### Distribuidores Regionais\\n\\n- Compram em lote e revendem.\\n- Suporte e garantia fornecidos pela empresa.\\n\\n### Vendas Diretas\\n\\n- Foco em grandes contas e inbound.\\n- Atendimento consultivo.\\n\\n## 10. Dados e Métricas para Decisão\\n\\n- **Conversão de Leads**: Origem, taxa de conversão, ciclo de vendas.\\n- **Desempenho Comercial**: Motivos de perda, nº de interações, tempo de resposta.\\n- **Pós-Venda**: NPS, taxa de recompra, indicações.\\n- **Ferramentas**: RD Station, Google Ads, Power BI, WhatsApp, formulários.\\n\\n## Conclusão\\n\\nEsse plano permite crescimento escalável, sem comprometer a experiência do cliente. A combinação de canais, automações e dados gera uma base sólida para consolidação da marca e aumento sustentável do faturamento.\\n'), Document(metadata={'source': '..\\\\preprocessing\\\\knowledge-base\\\\about\\\\Pesquisa de Mercado Mandrilhadora.md', 'doc_type': 'about'}, page_content='# Relatório de Pesquisa de Mercado – Mandrilhadoras Portáteis\\n\\n**Ano-base:** 2025  \\n**Elaborado por:** JVF Máquinas\\n\\n---\\n\\n## 1. Introdução ao Mercado\\n\\nO setor de manutenção de máquinas e equipamentos no Brasil movimenta aproximadamente **R$ 270,9 bilhões**, representando **3,2% do patrimônio líquido** das empresas brasileiras.\\n\\nSegundo dados da **ABRAMAN (Associação Brasileira de Manutenção)**, o setor é composto por:\\n\\n- 27 mil oficinas\\n  - 10.809 são empresas especializadas em manutenção de máquinas industriais\\n- 276 mil prestadores de serviço\\n- 7 grandes empresas usuárias: WEG, VALE, PETROBRAS, ELETROBRAS, GERDAU, entre outras\\n- Estimativa de 165 grandes empresas potenciais clientes\\n\\n### Setores que utilizam mandrilhadoras portáteis:\\n\\n- **Manutenção Industrial:** usinas, siderúrgicas, indústrias químicas\\n- **Óleo e Gás:** plataformas, tubulações, refino\\n- **Energia:** turbinas, geradores, usinas térmicas/hidrelétricas\\n- **Mineração:** máquinas pesadas, britagem\\n- **Naval:** navios, plataformas, estaleiros\\n- **Transporte:** manutenção de vagões, locomotivas, ferrovias\\n\\n---\\n\\n## 2. Pesquisa de Campo\\n\\nO mercado brasileiro apresenta forte presença de empresas de manutenção que fabricam ou comercializam mandrilhadoras e acessórios, além de prestar serviços técnicos especializados. A competitividade se acirra com fornecedores que oferecem soluções completas e atendimento regionalizado.\\n\\n---\\n\\n## 3. Avaliação Competitiva\\n\\n### 3.1 Grupo Franzen\\n\\n**Localização:** MG, SP e PA  \\n**Atuação:** Diversas máquinas para manutenção mecânica  \\n**Mandrilhadora analisada:** FZ-DUO  \\n**Faixa de diâmetro:** 37–400mm  \\n**Valor:** R$ 147.835,45 à vista | R$ 155.616,26 a prazo  \\n**Recursos:**\\n\\n- Compatível com várias tochas e máquinas de solda\\n- Controle digital\\n- Solda espiral, por giro e furação\\n\\n### 3.2 PowerPortátil (PowerMaq)\\n\\n**Experiência:** +15 anos  \\n**Atuação:** mineração, estaleiros, papel e celulose, energia eólica, óleo e gás  \\n**Produtos:**\\n\\n- **BB3000 / BB4500 / BB5000 / BB6100 / BB7100 / BB8100**\\n- Valores não informados para a maioria\\n- Destaque para a BB8100 (valor estimado: **R$ 1.200.000**) – alta potência e alcance\\n\\n**Outros Equipamentos:**\\n\\n- **Solda Automática BW5000:** soldagem com ligas especiais\\n- **Fresadora Circular CM6200:** faceamento de flanges até 5054mm\\n- **Fresadora Linear PM4200:** movimentos manuais e precisos em até 1981mm\\n\\n### 3.3 Nômade Máquinas\\n\\n**Atuação:** mandrilhadoras patenteadas e máquinas especiais  \\n**Mandrilhadoras analisadas:**\\n\\n- **MD150** – R$ 52.000 (35–150mm)\\n- **MD200** – R$ 62.000 (40–200mm)\\n- **MD400** – R$ 83.000 (60–400mm)\\n- **MD600** – R$ 94.000 (60–600mm)\\n\\n### 3.4 JCA Representações\\n\\n**Atuação:** distribuidor de marcas como CLIMAX  \\n**Setores atendidos:** saneamento, energia, indústria, mineração, siderurgia, petróleo\\n\\n---\\n\\n## 4. Comparativo Técnico das Máquinas\\n\\n| Modelo | Diâmetro Máx (mm) | Velocidade (rpm) | Curso Ferramenta (mm) | Tipo de Alimentação | Peso (kg) |\\n| ------ | ----------------- | ---------------- | --------------------- | ------------------- | --------- |\\n| FZ-DUO | 400               | 300–400          | 300–1000              | Variável            | 50        |\\n| BB3000 | —                 | —                | —                     | —                   | —         |\\n| BB4500 | 150 (padrão)      | —                | 150 (soldagem)        | Elétrico/Pneumático | —         |\\n| BB7100 | até 2481 mm       | —                | até 2034 mm           | Hidráulico          | —         |\\n| MD150  | 150               | —                | —                     | —                   | —         |\\n| MD600  | 600               | —                | —                     | —                   | —         |\\n\\n---\\n\\n## 5. Conclusão do Mercado\\n\\nO mercado de manutenção industrial e mineração representa uma **demanda crescente** por mandrilhadoras portáteis. Essas máquinas otimizam processos de manutenção, reduzem o tempo de parada e aumentam a produtividade.\\n\\nEmbora existam concorrentes consolidados, o segmento de **usinagem em campo para grandes diâmetros** ainda possui espaço competitivo e oportunidades de diferenciação tecnológica.\\n\\nA **JVF Máquinas** se posiciona como alternativa estratégica para atender esse mercado, oferecendo equipamentos com excelente custo-benefício, suporte técnico e exclusividade nacional.\\n\\n---\\n\\n© 2025 JVF Máquinas. Todos os direitos reservados.\\n'), Document(metadata={'source': '..\\\\preprocessing\\\\knowledge-base\\\\about\\\\Sobre Nós.md', 'doc_type': 'about'}, page_content='# Catálogo Institucional – JVF Máquinas (2025)\\n\\n---\\n\\n## Sobre a JVF Máquinas\\n\\nA **JVF Máquinas** é referência nacional no mercado de **mandrilhadoras portáteis**, atuando com exclusividade da marca **Y S Power / JVF** em todo o território brasileiro e América Latina.\\n\\n### Sede e Experiência\\n\\n- Localização: Joinville – SC\\n- Fundadores: Profissionais do interior de Minas Gerais\\n- Experiência no setor:\\n  - 20+ anos no comércio e varejo\\n  - 10+ anos em importação\\n\\n### Estrutura e Atuação\\n\\n- Equipe técnica especializada e qualificada\\n- Atendimento com suporte técnico de excelência\\n- Presença consolidada em todo o Brasil\\n- Parceria direta com a fábrica garante qualidade e inovação\\n\\n### Valores\\n\\n- Foco em **inovação**, **eficiência** e **responsabilidade**\\n- Compromisso com **honestidade**, **transparência** e **atendimento ao cliente**\\n- Mais do que vender máquinas: fornecem **soluções completas e confiáveis**\\n\\n---\\n\\n## Sobre a Fábrica – Y S Power\\n\\nA **Y S Power** é uma fabricante global de **máquinas portáteis de usinagem e soldagem**, com destaque por sua inovação contínua e controle rigoroso de qualidade.\\n\\n### Diferenciais Técnicos\\n\\n- Modernização constante de instalações e processos\\n- Equipamentos com desempenho elevado e durabilidade\\n- Atendem aos padrões internacionais de qualidade industrial\\n\\n### Suporte Global\\n\\n- Rede internacional de vendas e assistência técnica\\n- Garantia oficial e suporte pós-venda eficaz\\n\\n### Treinamentos Disponíveis\\n\\n- Treinamentos presenciais e online\\n- Abrangência: instalação, operação, manutenção e diagnóstico de falhas\\n\\n### Reconhecimento\\n\\nA busca por excelência consolidou a **S Power** como uma **referência global** em soluções portáteis para usinagem e reparos industriais.\\n\\n---\\n\\n**Elaborado por:**  \\nJVF Máquinas  \\nAno: 2025\\n'), Document(metadata={'source': '..\\\\preprocessing\\\\knowledge-base\\\\about\\\\summarizedKnowledgeBase.md', 'doc_type': 'about'}, page_content='# Documentação Técnica e Institucional – JVF Máquinas (2025)\\n\\n---\\n\\n## Índice\\n\\n1. Apresentação Institucional\\n2. Catálogo Institucional\\n3. Manual Técnico – Mandrilhadora S50\\n4. Manual Técnico – Mandrilhadora S60\\n5. Manual Técnico – Torno Portátil P230\\n6. Pesquisa de Mercado e Concorrência\\n\\n---\\n\\n## 1. Apresentação Institucional – JVF Máquinas\\n\\nA JVF Importação e Exportação é representante exclusiva da marca Y S Power / JVF no Brasil. A empresa atua com soluções de usinagem portátil voltadas à manutenção industrial, com foco em equipamentos de mandrilhamento, faceamento e soldagem de campo.\\n\\n**Produtos:**\\n\\n- Mandrilhadoras Portáteis: S50 (40–300mm), S60 (65–600mm)\\n- Faceadoras: PL250 (80–250mm / até 300mm)\\n- Torno portátil com bico de tocha para solda\\n- Kit saca pino e prensa bucha (até 70 toneladas)\\n\\n**Diferenciais:**\\n\\n- Representação exclusiva no Brasil\\n- Equipamentos de alta eficiência e suporte técnico nacional\\n- Tecnologia com preço competitivo\\n- Compromisso ambiental com soluções sustentáveis\\n\\n**Contato:**\\n\\n- WhatsApp: +55 (47) 99132-9067\\n- E-mail: contato@jvfmaquinas.com.br\\n- Endereço: Rua Pouso Alegre, 149 – Joinville, SC\\n- Site: https://jvfmaquinas.com.br\\n\\n---\\n\\n## 2. Catálogo Institucional\\n\\n### Sobre a JVF\\n\\n- Empresa com sede em Joinville–SC, fundada por profissionais de MG\\n- Mais de 20 anos de experiência no setor\\n- Mais de 10 anos de atuação em importação\\n- Equipe técnica qualificada com presença nacional\\n- Parceria sólida com a fábrica Y S Power\\n\\n### Sobre a Y S Power\\n\\n- Fabricante global reconhecida em solda e usinagem portátil\\n- Equipamentos de alto desempenho e confiabilidade\\n- Suporte técnico mundial com treinamentos online e presenciais\\n- Excelência em controle de qualidade\\n\\n---\\n\\n## 3. Manual Técnico – Mandrilhadora Portátil S50\\n\\n- Diâmetro de operação: 40–300mm\\n- Métodos de solda: espiral, por furo, por setor, pulo de solda\\n- Avanço axial com servo motor\\n- Cones centralizadores: Φ55–105mm / Φ100–164mm\\n- Solda: CO₂, fios 0.8–1.2mm, até 1400mm\\n- Opcional: kit modular para até 300mm\\n\\n---\\n\\n## 4. Manual Técnico – Mandrilhadora Portátil S60\\n\\n- Faixa de diâmetro: 65–600mm\\n- Profundidade axial: 1.5mm | Largura radial: até 3mm\\n- Servo motor 3800W | Torque: 220N·m | Tensão: 220/380V\\n- Modos de solda: contínua, por setor, intermitente\\n- Componentes modulares e sistema cruzado de suporte\\n- Soldagem controlada automaticamente via painel digital\\n\\n---\\n\\n## 5. Manual Técnico – Torno Portátil P230\\n\\n- Faixa de eixo: Φ60mm a Φ230mm\\n- Comprimento de avanço: < 300mm\\n- Motor servo: 1.8kW | RPM: 0–150 | Torque: 52N·m\\n- Conexão via flange soldada ou roscada (M70, M80)\\n- Painel de controle com ajuste automático\\n- Aplicações: solda e torneamento in loco\\n\\n---\\n\\n## 6. Pesquisa de Mercado – Mandrilhadoras Portáteis\\n\\n### Dados do Setor\\n\\n- Volume de negócios: R$ 270,9 bilhões\\n- 27 mil oficinas | 276 mil prestadores de serviço\\n- Clientes-alvo: VALE, PETROBRAS, WEG, ELETROBRAS, etc.\\n\\n### Concorrentes Avaliados\\n\\n**Grupo Franzen**\\n\\n- Modelo FZ-DUO | 37–400mm | R$ 147.835\\n- Controle digital, solda espiral e por giro\\n\\n**PowerPortátil (PowerMaq)**\\n\\n- Modelos BB3000 a BB8100\\n- Destaque: BB8100 (até 600mm) – R$ 1.200.000\\n- Solda BW5000 e fresadoras CM6200 / PM4200\\n\\n**Nômade Máquinas**\\n\\n- Modelos MD150–MD600 | 35–600mm | R$ 52.000 a R$ 94.000\\n- Foco em faceamento e furos\\n\\n**JCA Representações**\\n\\n- Atuação em distribuição e representação de grandes marcas\\n\\n### Conclusão\\n\\n- Setores de mineração e manutenção industrial têm alta demanda\\n- Concorrência direta limitada para grandes diâmetros\\n- JVF se destaca pela combinação de exclusividade, suporte e custo-benefício\\n\\n---\\n\\n© 2025 JVF Máquinas. Todos os direitos reservados.\\n'), Document(metadata={'source': '..\\\\preprocessing\\\\knowledge-base\\\\about\\\\website.md', 'doc_type': 'about'}, page_content='# Apresentação Institucional – JVF Máquinas\\n\\nA JVF Importação e Exportação é representante exclusiva da marca Y S Power / JVF no Brasil. A empresa atua com soluções de usinagem portátil voltadas à manutenção industrial, com foco em equipamentos de mandrilhamento, faceamento e soldagem de campo.\\n\\n---\\n\\n## Produtos\\n\\n### Mandrilhadoras Portáteis\\n\\n- **Modelo S50**  \\n  Faixa de operação: 40 a 300 mm  \\n  Aplicação: serviços compactos e versáteis em manutenção leve a média\\n\\n- **Modelo S60**  \\n  Faixa de operação: 65 a 600 mm  \\n  Aplicação: usinagem de alta precisão em grandes componentes\\n\\n### Faceadoras\\n\\n- **Modelo PL250**  \\n  Capacidade: 80 a 250 mm (extensível até 300 mm)  \\n  Utilização: serviços de faceamento em campo\\n\\n### Torno Portátil com Bico de Tocha para Solda\\n\\n- Combina usinagem e soldagem em uma única estrutura  \\n  Aplicação em eixos e flanges\\n\\n### Kit Saca Pino e Prensa Bucha\\n\\n- Força máxima: até 70 toneladas  \\n  Indicado para manutenção pesada e desmontagem de componentes\\n\\n---\\n\\n## Diferenciais da JVF\\n\\n- **Representação Exclusiva no Brasil**  \\n  Único representante autorizado da marca Y S Power / JVF\\n\\n- **Eficiência Operacional**  \\n  Equipamentos que aumentam produtividade, reduzem esforço manual e otimizam tempo\\n\\n- **Tecnologia com Custo Acessível**  \\n  Produtos com alta qualidade e preços competitivos, com suporte local\\n\\n- **Compromisso Ambiental**  \\n  Equipamentos desenvolvidos com foco na redução de emissões e sustentabilidade operacional\\n\\n---\\n\\n## Contato\\n\\n- **Telefone / WhatsApp:** +55 (47) 99132-9067\\n- **E-mail:** contato@jvfmaquinas.com.br\\n- **Endereço:** Rua Pouso Alegre, Nº 149 – Bairro Glória – Joinville, SC\\n- **Instagram:** https://instagram.com/jvfmaquinas\\n- **Site:** https://jvfmaquinas.com.br\\n\\n---\\n\\n© 2024 JVF Máquinas. Todos os direitos reservados.\\n'), Document(metadata={'source': '..\\\\preprocessing\\\\knowledge-base\\\\products\\\\P230\\\\P230 Portuguese.md', 'doc_type': 'products'}, page_content='# Manual Técnico – Torno Portátil P230\\n\\nInformações técnicas e operacionais do **Torno Portátil P230**, desenvolvido para soldagem e torneamento in loco de eixos com diferentes métodos de conexão e controle automatizado.\\n\\n---\\n\\n## 1. Aplicação\\n\\nO **P230** permite reparo e usinagem de eixos em campo com controle automático de rotação. A velocidade se ajusta conforme o diâmetro do eixo, garantindo precisão no processo de soldagem e torneamento.\\n\\n---\\n\\n## 2. Componentes Principais\\n\\n- Suporte de ferramenta 14x14\\n- Motor de avanço axial (servo motor de 1.8KW)\\n- Caixa redutora e carcaça\\n- Bloco de alinhamento\\n- Contrapesos\\n- Flange soldada\\n- Braço do avanço axial\\n- Base do braço de avanço axial\\n\\n---\\n\\n## 3. Conexão da Flange\\n\\n### 3.1 Flange Soldada\\n\\n- A flange é soldada diretamente ao eixo a ser reparado.\\n- A fixação ao bloco de alinhamento é feita por parafusos.\\n\\n### 3.2 Flange Roscada (Opcional)\\n\\n- Tipos disponíveis:\\n  - M70x2 (1 unidade)\\n  - M80x2 (1 unidade)\\n\\n---\\n\\n## 4. Conexão do Bloco de Alinhamento\\n\\n- Conexão direta à peça de trabalho.\\n- Utilização de parafusos M16 para fixar no furo roscado da flange.\\n- Diâmetro da flange aplicável: 82–88mm.\\n\\n---\\n\\n## 5. Caixa e Painel de Controle\\n\\n- Tensão de operação: 220V–240V\\n- Frequência: 50Hz–60Hz\\n- Controle integrado com regulação de rotação e avanço.\\n\\n---\\n\\n## 6. Especificações Técnicas de Torneamento\\n\\n- Comprimento máximo de avanço: < 300mm\\n- Diâmetro mínimo do eixo: Φ60mm\\n- Diâmetro máximo do eixo: Φ230mm\\n\\n---\\n\\n## 7. Especificações Técnicas de Soldagem\\n\\n- Diâmetro de trabalho: 60–230mm\\n- Comprimento máximo de avanço: < 300mm\\n\\n---\\n\\n## 8. Parâmetros Técnicos Gerais\\n\\n- **Modelo**: P230\\n- **Nome do Produto**: Torno Portátil\\n- **Potência do Motor Principal**: 1.8KW (Servo Motor)\\n- **Motor Secundário**: 150W (Motor de Passo)\\n- **Avanço Máximo**: < 300mm\\n- **Faixa de Trabalho**: 60–230mm\\n- **Velocidade de Rotação (RPM)**: 0–150 RPM\\n- **Voltagem de Operação**: 220V ~ 240V\\n- **Frequência**: 50Hz–60Hz\\n- **Corrente Nominal**: 9.5A\\n- **Torque**: 52 N·m\\n- **Índice de Proteção (IP)**: IP67 (servo motor)\\n\\n---\\n\\n## Observações\\n\\nEste torno é projetado para operação portátil, com montagem direta sobre a peça a ser usinada. A flexibilidade de conexão via flanges soldadas ou roscadas, aliada à precisão do motor servo, proporciona alta eficiência e desempenho em campo.\\n\\n---\\n'), Document(metadata={'source': '..\\\\preprocessing\\\\knowledge-base\\\\products\\\\S50\\\\Brochure S50 Portuguese.md', 'doc_type': 'products'}, page_content='# Manual Técnico – Mandrilhadora Portátil S50 (40–300mm)\\n\\nEste documento apresenta as especificações técnicas, componentes, funcionalidades e informações de contato da **Mandrilhadora Portátil S50**, com foco em usinagem de campo, soldagem e reparo de furos.\\n\\n---\\n\\n## 1. Descrição Geral\\n\\nA **Mandrilhadora Portátil S50** é uma solução versátil e robusta para serviços de usinagem em campo. Projetada para reparos de furos, faceamento e operações de solda em componentes industriais, oferece precisão e eficiência em diversas aplicações.\\n\\n---\\n\\n## 2. Características Técnicas Principais\\n\\n- Diâmetro de trabalho: 40mm a 300mm\\n- Permite solda por setor para correção de furos elípticos\\n- Métodos de solda compatíveis:\\n  - Solda espiral\\n  - Solda de furo\\n  - Solda por setor\\n  - Pulo de solda\\n- Servo motor para avanço axial preciso\\n- Sistema modular com cones centralizadores (grande e pequeno)\\n- Barra de mandrilhamento padrão e kit opcional para até 300mm\\n\\n---\\n\\n## 3. Componentes do Sistema\\n\\n### 3.1 Sistema de Avanço\\n\\n- Motor de avanço axial\\n- Volante de avanço manual\\n- Caixa de redução\\n- Placa do quadro de rolamento\\n- Suporte de rolamentos\\n- Auxílio de posicionamento\\n\\n### 3.2 Cones Centralizadores\\n\\n- Cone grande: Φ100–164mm\\n- Cone pequeno: Φ55–105mm\\n\\n### 3.3 Barras de Mandrilhamento\\n\\n- Padrão: 40–75mm (sistema 35mm)\\n- Opcional: até 300mm com kit modular\\n\\n---\\n\\n## 4. Sistema de Soldagem\\n\\n- Abertura opcional: 45–160mm\\n- Espessura de solda: 3–4mm\\n- Comprimento total de montagem: até 1400mm\\n- Máquinas de solda compatíveis: modelos 210–500\\n- Fios de solda compatíveis: 0.8mm, 1.0mm, 1.2mm\\n- Método: CO₂ gas shield welding\\n- Barras de solda: 200mm, 240mm, 350mm, 800mm\\n\\n---\\n\\n## 5. Kit Opcional 300mm\\n\\n- Suporte modular para furos até 300mm\\n- Estrutura de montagem independente\\n\\n---\\n\\n## 6. Galeria de Aplicações\\n\\n> _Imagens ilustrativas do equipamento em operação e seus componentes devem ser incluídas neste espaço em implementações finais._\\n\\n---\\n\\n## 7. Informações de Contato\\n\\n- Representante exclusivo no Brasil: **JVF Importação e Exportação**\\n- WhatsApp: [ +55 (47) 99132-9067 ](https://wa.me/5547991329067)\\n- E-mail: [contato@jvfmaquinas.com.br](mailto:contato@jvfmaquinas.com.br)\\n- Endereço: Rua Pouso Alegre, Nº 149 – Bairro Glória – Joinville, SC\\n\\n---\\n\\n© 2024 JVF Máquinas. Todos os direitos reservados.\\n'), Document(metadata={'source': '..\\\\preprocessing\\\\knowledge-base\\\\products\\\\S50\\\\Ficha Técnica S50.md', 'doc_type': 'products'}, page_content='## Ficha Técnica S50\\n\\n| Característica                      | Parâmetro                                |\\n|-------------------------------------|------------------------------------------|\\n| Voltagem                            | 220V / 380V                              |\\n| Frequência                          | 50-60Hz                                  |\\n| Potência do motor principal         | 3100W (4.2cv)                            |\\n| Potência do motor de avanço         | 400W                                     |\\n| Velocidade da barra de usinagem     | 55~255rpm                                |\\n| Método de controle de velocidade    | Servo motor contínuo                     |\\n| Modo de avanço                      | Manual / Automático                      |\\n| Torque                              | 130N.m                                   |\\n| Diâmetros das barras de usinagem    | 35 / 50mm                                |\\n| Comprimentos das barras de usinagem | 1600mm / 1200mm / 400mm / 350mm          |\\n| Diâmetro da barra de soldagem       | 40mm                                     |\\n| Comprimento da barra de soldagem    | 200 / 240 / 300 / 800mm                  |\\n| Alcance de usinagem                 | 40-160mm / 55-160mm / 40-300m / 55-300mm |\\n| Alcance de soldagem                 | 40-160mm / 40-300mm                      |\\n| Distancia de passo de avanço único  | 280mm~1000mm                             |\\n| Máxima espessura de corte           | 16mm circular, 8mm unilateral            |\\n| Fixação                             | Solda                                    |\\n| Tolerância de usinagem              | 0.02mm                                   |\\n| Tolerância à ovalidade              | 0.01mm                                   |\\n| Tolerância à conicidade             | 0.01mm                                   |\\n| Rugosidade superficial              | Ra3.2                                    |\\n| Método de soldagem                  | Gás                                      |\\n| Fio de solda aplicável              | 0.8 / 1.0 / 1.2mm                        |\\n| Espessura unilateral de soldagem    | 3-5mm                                    |\\n| Comprimento do cabo da tocha        | 4540mm                                   |\\n| Máquina de solda aplicável          | 210-500A com gás                         |'), Document(metadata={'source': '..\\\\preprocessing\\\\knowledge-base\\\\products\\\\S50\\\\Manual de Operação S50.md', 'doc_type': 'products'}, page_content='# Manual de Operação - Mandrilhadora Portátil S50\\n\\nGuia prático de uso e segurança para operação da Mandrilhadora S50  \\nPreparado por: JVF Máquinas\\n\\n---\\n\\n## 1. Fixação da Barra ao Eixo\\n\\n- Configure os cones de posicionamento e insira a barra nos furos para alinhamento.\\n- Trave a ponta do parafuso com uma chave allen.\\n- Insira a manga de posicionamento para fixar o cone.\\n- Instale o suporte de ferramenta na barra e aperte o cone.\\n- Aperte o anel da manga com chave apropriada.\\n- Aperte os parafusos do cone e remova a manga.\\n\\n---\\n\\n## 2. Instalação do Suporte de Rolamento\\n\\n- Encaixe o suporte de rolamento na barra.\\n- Ajuste os três parafusos igualmente, deixando espaço para remoção do cone.\\n- Certifique-se de que os parafusos encostem firmemente na peça.\\n- Aperte a porca e solde as três pernas.\\n- Teste o deslizamento da barra e reajuste se necessário.\\n\\n---\\n\\n## 3. Instalação do Suporte Anti-vibração\\n\\n- Utilize quando a distância entre os suportes for grande.\\n- Posicione o suporte no centro e solde após o ajuste.\\n\\n---\\n\\n## 4. Instalação do Motor\\n\\n- Conecte a flange do motor à flange do rolamento.\\n- Verifique o alinhamento para não comprometer a centralização.\\n\\n---\\n\\n## 5. Instalação da Alimentação\\n\\n- Insira a barra rosqueada no motor, alinhando os furos.\\n- Deixe a cabeça do parafuso com aproximadamente 4 mm para fora.\\n- Corrija se estiver desalinhado.\\n- A barra rosqueada e o rolamento são inseparáveis. Enviar para inspeção se houver falhas.\\n\\n---\\n\\n## 6. Conexão do Painel de Controle\\n\\n- Cabo 1: Controle da máquina de solda\\n- Cabo 2: Alimentação de gás\\n- Cabo 3: Fio de solda\\n\\nAtenção: não dobrar ou forçar os fios. Mantenha limpo.\\n\\n---\\n\\n## 7. Instalação do Suporte de Ferramenta\\n\\n- Meça o diâmetro com paquímetro para definir o suporte:\\n  - 45mm → 70–88mm\\n  - 55mm → 88–106mm\\n  - 65mm → 106–124mm\\n  - 75mm → 124–142mm\\n  - 85mm → 142–160mm\\n- Furos menores que 70mm: usar ferramenta central.\\n- Cortar o suporte se necessário.\\n- Fixação: furo horizontal.\\n- Ajuste de profundidade: furo vertical (1 volta = 2.4 mm).\\n\\nProfundidade de corte recomendada: até 6 mm (ajustar conforme dureza do material).\\n\\n---\\n\\n## 8. Operação do Painel de Controle\\n\\n1. Avanço da barra (somente com rotação ativa)\\n2. Recuo da barra (somente com rotação ativa)\\n3. Parar avanço (ativa luz vermelha)\\n4. Troca manual/automático\\n5. Velocidade de avanço\\n6. Rotação positiva\\n7. Rotação negativa\\n8. Parar rotação\\n9. Ativar rotação manual\\n10. Controle da velocidade de rotação\\n\\n---\\n\\n## 9. Controle Remoto\\n\\n- Segue a mesma ordem do painel principal.\\n- Botões 5 e 6: avanço axial\\n- Botões 11 e 12: rotação\\n\\nObservação: ajuste a velocidade de avanço gradualmente no modo automático.\\n\\n---\\n\\n## 10. Reparo com Solda\\n\\n- Finalize o torneamento e desligue o painel.\\n- Conecte o fio de solda (usar adaptador se necessário).\\n- Insira o fio na tocha.\\n- Monte a barra de solda conforme necessidade.\\n- Instale revestimento de nylon e pasta anti-bloqueio.\\n- Ajuste o ângulo da tocha (1–2 mm da superfície).\\n- Meça o diâmetro do furo e insira os dados na controladora.\\n\\n---\\n\\n## 11. Modos Especiais de Solda\\n\\n### Pular Soldagem\\n\\n- Pressione \"Jump Welding\" no início e fim da área a ser ignorada.\\n- A máquina irá pular automaticamente essa área nas voltas seguintes.\\n\\n### Soldagem em Setor\\n\\n- Ajuste a posição inicial e a largura na controladora (1 unidade = 5 mm).\\n- Pressione \"Sector Welding\" para iniciar e parar.\\n\\n### Controle Avançado\\n\\n1. Aumentar diâmetro do furo\\n2. Diminuir diâmetro do furo\\n3. Aumentar largura do setor\\n4. Diminuir largura do setor\\n5. Avanço da barra\\n6. Recuo da barra\\n7. Iniciar ou parar soldagem\\n8. Soldagem lenta\\n9. Parar avanço\\n10. Inverter direção do avanço\\n11. Iniciar/parar solda por setor\\n12. Iniciar/parar pulo de solda\\n\\n---\\n\\n## 12. Manutenção Preventiva\\n\\n- Lubrifique área da chave e barra com óleo anti-ferrugem.\\n- Limpe e lubrifique cones, mangas, rolamentos e ponteiras.\\n- Armazene a tocha sem dobras.\\n- Limpe motor e portas de conexão antes de guardar.\\n- Guarde a controladora em local seco, longe do sol.\\n- Lubrifique todas as ferramentas antes de armazenar.\\n\\n---\\n\\n## Suporte Técnico\\n\\nEm caso de dúvidas ou necessidade de assistência, entre em contato:\\n\\n- WhatsApp: +55 (47) 99132-9067\\n- E-mail: suporte@jvfmaquinas.com.br\\n- Site: www.jvfmaquinas.com.br\\n- Endereço: Rua Pouso Alegre, 149 – Joinville, SC\\n\\n---\\n\\n© 2024 JVF Máquinas. Todos os direitos reservados.\\n'), Document(metadata={'source': '..\\\\preprocessing\\\\knowledge-base\\\\products\\\\S50\\\\Relação de Itens - S50.md', 'doc_type': 'products'}, page_content='## Lista de Itens S50\\n\\n| Imagem | Item                                   | Qtd.       | Imagem | Item                                              | Qtd. |\\n| ------ | -------------------------------------- | ---------- | ------ | ------------------------------------------------- | ---- |\\n|        | Motor c/ Caixa Redutora                | 1          |        | Painel de controle                                | 1    |\\n|        | Controle Remoto p/ Usinagem e Soldagem | 2          |        | Fuso de avanço                                    | 1    |\\n|        | Braço de fixação (Ferro)               | 6          |        | Braço de fixação (Aluminio)                       | 6    |\\n|        | Kit parafusos de fixação dos braços    | 2 (12 un.) |        | Cone de centralização da barra de 50mm            | 2    |\\n|        | Cone de centralização da barra de 35mm | 2          |        | Cone de centralização da barra de 50mm (alumínio) | 2    |\\n|        | Mancal de suporte central              | 1          |        | Chapa de fixação suporte central                  | 1    |\\n|        | Mancais principais                     | 2          |        | Ferramenta de aperto de cones de centralização    | 1    |\\n\\n## Luva de Redução\\n\\n| Luva de Redução                           | 2         | Buchas de redução               | 5          |\\n| ----------------------------------------- | --------- | ------------------------------- | ---------- |\\n| Kit sistema de centralização luneta       | 1         | Barra de usinagem 50x1600mm     | 1          |\\n| Barra de usinagem 35x1200mm               | 1         | Barra de usinagem 50x700mm      | 1          |\\n| Kit barra de soldagem 40x1500mm (modular) | 1 (4 un.) | Mangueira de soldagem           | 1          |\\n| Adaptador para cabo de soldagem           | 1         | Kit bico tocha                  | 1          |\\n| Kit parafusos de reposição                | 3         | Extensor de suporte de pastilha | 1          |\\n| Kit de insertos vídea                     | 7         | Kit suporte de inserto vídea    | 1 (12 un.) |\\n| Paquimetro                                | 2         | Kit de chave allen              | 1 (5 un.)  |\\n\\n## Bico de contato\\n\\n| Bico de contato N 0.8 | 20  | Bico de contato N 1.0    | 20  |\\n| --------------------- | --- | ------------------------ | --- |\\n| Bico de contato N 1.2 | 20  | Proteção Bico de contato | 10  |\\n'), Document(metadata={'source': '..\\\\preprocessing\\\\knowledge-base\\\\products\\\\S60\\\\Manual de Operação S60.md', 'doc_type': 'products'}, page_content='# Manual de Operação – Mandrilhadora Portátil S60\\n\\nGuia prático de uso e segurança para operação da Mandrilhadora S60  \\nPreparado por: JVF Máquinas\\n\\n---\\n\\n## 1. Centralização da Barra ao Eixo\\n\\n- Meça o diâmetro do furo da peça (65–600mm).\\n- Ajuste a ferramenta de centralização com base nos dados.\\n- Insira a ferramenta em cruz em ambos os lados do furo.\\n- Realize pontos de solda para fixação.\\n- Instale a barra de mandrilhamento e o suporte de ferramenta.\\n- Gire a barra, ajuste a altura e verifique a movimentação livre.\\n\\n---\\n\\n## 2. Centralização com Ferramenta em \"T\"\\n\\n- Meça o furo e ajuste a ferramenta centralizadora.\\n- Insira a barra e ajuste a distância ao centro.\\n- Aperte os parafusos de fixação.\\n- Use relógio comparador magnético para ajuste fino.\\n- Repita o ajuste nas duas extremidades.\\n\\n---\\n\\n## 3. Instalação do Suporte de Rolamento\\n\\n- Encaixe o suporte de rolamento na barra.\\n- As quatro pernas devem tocar a peça.\\n- Aperte os parafusos e realize solda de fixação.\\n- Remova a ferramenta de centralização e teste o deslizamento.\\n- Se travar, verifique paralelismo dos rolamentos e solda.\\n\\n---\\n\\n## 4. Instalação do Motor\\n\\n- Fixe a placa de conexão com 4 parafusos sextavados.\\n- Posicione o motor nas ranhuras e prenda com o bloco de fixação.\\n\\n---\\n\\n## 5. Instalação do Avanço\\n\\n- Alinhe furos do motor com a barra roscada.\\n- Fixe com 4 parafusos de travamento.\\n- Mantenha espaço para o curso de avanço.\\n- Evite que a alimentação atinja o limite, o que pode causar danos.\\n\\n---\\n\\n## 6. Conexão do Painel de Controle\\n\\n- Utilize a chave de posicionamento da porta de energia.\\n- Cabos:\\n  - Cabo 1: Controle da máquina de solda\\n  - Cabo 2: Alimentação de gás\\n  - Cabo 3: Alimentação do fio de solda\\n- Evite dobras, colisões ou poeira nas interfaces.\\n\\n---\\n\\n## 7. Instalação do Suporte de Ferramenta\\n\\n- Para furos < 160mm: usar suporte com pastilha.\\n- Para furos > 160mm: usar suporte modular.\\n- Para furos < 70mm: usar ferramenta central.\\n- Fixação no furo horizontal, profundidade no furo vertical (1 volta = 2.4mm).\\n- Profundidade de corte recomendada:\\n  - Bruto: ≥ 2mm\\n  - Semi-fino: ≤ 1mm\\n  - Fino: ≤ 0.3mm\\n- Comece manualmente e em baixa velocidade.\\n\\n---\\n\\n## 8. Instalação do Porta Inserto\\n\\n- Lado esquerdo: porta inserto redondo com ajuste fino.\\n- Lado direito: porta inserto quadrado (sem ajuste fino).\\n- Fixe com parafusos e use relógio comparador para ajuste preciso.\\n\\n---\\n\\n## 9. Painel de Controle da Usinagem\\n\\n- Controle de avanço por rotação (mm/r) e por minuto (mm/min)\\n- Ajuste de velocidade de avanço\\n- Direção do avanço (normal ou reversa)\\n- Modos de avanço: automático e manual\\n- Configuração e leitura de distância de avanço\\n- Redefinir posição e retorno à posição inicial (Home)\\n- Comandos de rotação: iniciar, pausar, alterar sentido e velocidade\\n- Observações:\\n  - Durante o avanço, a barra deve estar girando\\n  - A velocidade de rotação afeta automaticamente o avanço\\n  - Velocidade máxima: 133 rpm\\n  - Aumentar avanço axial gradualmente\\n\\n---\\n'), Document(metadata={'source': '..\\\\preprocessing\\\\knowledge-base\\\\products\\\\S60\\\\S60 Brochure.md', 'doc_type': 'products'}, page_content='# Manual Técnico – Mandrilhadora Portátil S60\\n\\nDocumento técnico para indexação e consulta sobre a **Mandrilhadora Portátil S60**, usada para soldagem e usinagem in loco com alta precisão, aplicável a furos de grande diâmetro em diversos setores industriais.\\n\\n---\\n\\n## 1. Faixa de Usinagem\\n\\n- A máquina suporta furos com diâmetros entre **65mm e 600mm**\\n- Alta precisão: tolerância de ovalidade ≤ 0,02mm\\n- Tolerância de conicidade para furos internos: ±0,02mm\\n- Rugosidade superficial: Ra 3.2 μm\\n\\n---\\n\\n## 2. Motor Servo de Alta Qualidade\\n\\n- A S60 utiliza motor servo de alto desempenho\\n- Alta durabilidade, confiabilidade e precisão em trabalhos contínuos\\n\\n---\\n\\n## 3. Estrutura Compacta\\n\\n- Equipamento leve e de tamanho reduzido\\n- Fácil de transportar e operar em campo\\n\\n---\\n\\n## 4. Aplicações Industriais\\n\\n- Manutenção de máquinas de construção, mineração, portuárias e navais\\n- Usinagem de furos em equipamentos de geração térmica\\n- Produção e reparo de eixos industriais\\n\\n---\\n\\n## 5. Componentes Técnicos Principais\\n\\n- Barra de mandrilhamento\\n- Caixa redutora de 6 velocidades\\n- Estrutura de suporte com rolamentos esféricos\\n- Conjunto de suporte do rolamento\\n- Motor de avanço axial (servo motor)\\n- Conjunto de avanço axial\\n- Parafuso de avanço axial\\n- Porta-ferramenta grande (modular)\\n\\n---\\n\\n## 6. Parâmetros Gerais de Usinagem\\n\\n- Potência: 3800W\\n- Rotação: 30 a 133 rpm\\n- Velocidade de avanço axial: 0 – 0,5 mm/s\\n- Profundidade de usinagem axial: 1.5 mm\\n- Largura de corte radial: 0.03 – 3 mm\\n- Avanço reversível\\n- Diâmetro da barra de mandrilhamento: 60 mm\\n- Comprimento padrão da barra: 2200 mm\\n- Comprimento axial de usinagem: 0.5 a 1000 mm\\n- Torque: 220 N·m\\n- Alimentação: 220V ou 380V\\n- Frequência: 50Hz/60Hz\\n- Regulagem de velocidade: contínua (sem degraus)\\n\\n---\\n\\n## 7. Parâmetros de Soldagem\\n\\n- Diâmetro aplicável: 65–600 mm\\n- Espessura de solda: 6–8 mm\\n- Largura da solda: 3 mm\\n- Largura de solda intermitente: 15 mm\\n- Largura de soldagem por setor: 4–299 mm\\n- Tipos de solda suportados: contínua, por setor, intermitente\\n- Comprimento da barra de solda: 200mm, 240mm, 300mm, 800mm\\n- Comprimento total da tocha: até 1000mm\\n- Cabo da tocha: 4540mm\\n- Tipo de soldagem: solda protegida por gás CO₂\\n- Diâmetros de fio recomendados: 0.8 / 1.0 / 1.2 mm\\n- Modelos recomendados: Power 210, Power 500\\n\\n---\\n\\n## 8. Aplicação em Faceamento de Flanges\\n\\n- Faixa de faceamento: 160–600 mm\\n- Velocidade de operação: 30–133 rpm\\n\\n---\\n\\n## 9. Suporte de Rolamento Cruzado (Opcional)\\n\\n- Diâmetro máximo de suporte: 180–780 mm\\n\\n---\\n\\n## 10. Comprimento da Barra de Mandrilhamento\\n\\n- Comprimento padrão: 600 mm\\n- Comprimento máximo customizável: 1000 mm\\n- Fórmula para cálculo do comprimento:\\n  - Comprimento da peça + comprimento do processo + 1136 mm (compensação do sistema S60)\\n\\n---\\n\\n## 11. Operação de Solda Automática\\n\\n- O sistema interno calcula automaticamente a velocidade de rotação e o avanço axial com base no diâmetro inserido\\n- Ao clicar em \"Iniciar Soldagem\", o sistema executa a operação com controle preciso do programa\\n\\n---\\n\\n## 12. Resumo de Recursos\\n\\n- Sistema modular de suporte de ferramenta patenteado\\n- Substitui conjuntos de porta-ferramentas de tamanho único\\n- Adaptável a múltiplos diâmetros de furos\\n- Operação com avanço axial reversível\\n- Ideal para ambientes móveis e industriais\\n\\n---\\n\\n© 2024 JVF Máquinas – Todos os direitos reservados.\\n')]\n"
     ]
    }
   ],
   "source": [
    "# Read in documents using LangChain's loaders\n",
    "# Take everything in all the sub-folders of our knowledgebase\n",
    "\n",
    "import os\n",
    "import glob\n",
    "from langchain.document_loaders import DirectoryLoader, TextLoader\n",
    "from langchain.text_splitter import CharacterTextSplitter\n",
    "\n",
    "from typing import List\n",
    "\n",
    "def load_documents(base_path: str, documents: List, text_loader_kwargs: dict = None):\n",
    "    \"\"\"\n",
    "    Carrega arquivos .md de um caminho base. Usa DirectoryLoader para pastas com subdiretórios\n",
    "    e TextLoader para pastas com apenas arquivos .md.\n",
    "\n",
    "    Args:\n",
    "        base_path (str): Caminho onde estão os arquivos ou subpastas.\n",
    "        documents (List): Lista onde os documentos serão adicionados.\n",
    "        text_loader_kwargs (dict, optional): Opções para o TextLoader.\n",
    "    \"\"\"\n",
    "    if text_loader_kwargs is None:\n",
    "        text_loader_kwargs = {'encoding': 'utf-8'}\n",
    "\n",
    "    # Verifica se há subdiretórios\n",
    "    subfolders = [f for f in glob.glob(os.path.join(base_path, \"*\")) if os.path.isdir(f)]\n",
    "\n",
    "    if subfolders:\n",
    "        # Caso tenha subpastas, usar DirectoryLoader para cada uma\n",
    "        for folder in subfolders:\n",
    "            doc_type = os.path.basename(folder)\n",
    "            print(f\"[DirectoryLoader] Carregando de: {doc_type}\")\n",
    "            loader = DirectoryLoader(\n",
    "                folder,\n",
    "                glob=\"**/*.md\",\n",
    "                loader_cls=TextLoader,\n",
    "                loader_kwargs=text_loader_kwargs\n",
    "            )\n",
    "            folder_docs = loader.load()\n",
    "            for doc in folder_docs:\n",
    "                doc.metadata[\"doc_type\"] = doc_type\n",
    "                documents.append(doc)\n",
    "    else:\n",
    "        # Caso não tenha subpastas, assumimos que a pasta contém arquivos .md diretamente\n",
    "        md_files = glob.glob(os.path.join(base_path, \"*.md\"))\n",
    "        for file_path in md_files:\n",
    "            print(f\"[TextLoader] Carregando arquivo: {os.path.basename(file_path)}\")\n",
    "            loader = TextLoader(file_path, **text_loader_kwargs)\n",
    "            doc = loader.load()[0]\n",
    "            doc.metadata[\"doc_type\"] = os.path.basename(base_path)\n",
    "            documents.append(doc)\n",
    "\n",
    "\n",
    "documents = []\n",
    "\n",
    "load_documents(\"../preprocessing/knowledge-base\", documents)\n",
    "\n",
    "print(f\"Total de documentos carregados: {len(documents)}\")      \n",
    "print(documents)  "
   ]
  },
  {
   "cell_type": "markdown",
   "id": "f065d4b1-80b7-4e15-abd4-60a83e752ea8",
   "metadata": {},
   "source": [
    "# Please note:\n",
    "\n",
    "In the next cell, we split the text into chunks.\n",
    "\n",
    "2 students let me know that the next cell crashed their computer.  \n",
    "They were able to fix it by changing the chunk_size from 1,000 to 2,000 and the chunk_overlap from 200 to 400.  \n",
    "This shouldn't be required; but if it happens to you, please make that change!  \n",
    "(Note that LangChain may give a warning about a chunk being larger than 1,000 - this can be safely ignored).\n",
    "\n",
    "_With much thanks to Steven W and Nir P for this valuable contribution._"
   ]
  },
  {
   "cell_type": "code",
   "execution_count": 3,
   "id": "7310c9c8-03c1-4efc-a104-5e89aec6db1a",
   "metadata": {},
   "outputs": [
    {
     "name": "stderr",
     "output_type": "stream",
     "text": [
      "Created a chunk of size 1196, which is longer than the specified 1000\n"
     ]
    }
   ],
   "source": [
    "text_splitter = CharacterTextSplitter(chunk_size=1000, chunk_overlap=200)\n",
    "chunks = text_splitter.split_documents(documents)"
   ]
  },
  {
   "cell_type": "code",
   "execution_count": 4,
   "id": "cd06e02f-6d9b-44cc-a43d-e1faa8acc7bb",
   "metadata": {},
   "outputs": [
    {
     "data": {
      "text/plain": [
       "44"
      ]
     },
     "execution_count": 4,
     "metadata": {},
     "output_type": "execute_result"
    }
   ],
   "source": [
    "len(chunks)"
   ]
  },
  {
   "cell_type": "code",
   "execution_count": 5,
   "id": "2c54b4b6-06da-463d-bee7-4dd456c2b887",
   "metadata": {},
   "outputs": [
    {
     "name": "stdout",
     "output_type": "stream",
     "text": [
      "Document types found: products, about\n"
     ]
    }
   ],
   "source": [
    "doc_types = set(chunk.metadata['doc_type'] for chunk in chunks)\n",
    "print(f\"Document types found: {', '.join(doc_types)}\")"
   ]
  },
  {
   "cell_type": "markdown",
   "id": "77f7d2a6-ccfa-425b-a1c3-5e55b23bd013",
   "metadata": {},
   "source": [
    "## A sidenote on Embeddings, and \"Auto-Encoding LLMs\"\n",
    "\n",
    "We will be mapping each chunk of text into a Vector that represents the meaning of the text, known as an embedding.\n",
    "\n",
    "OpenAI offers a model to do this, which we will use by calling their API with some LangChain code.\n",
    "\n",
    "This model is an example of an \"Auto-Encoding LLM\" which generates an output given a complete input.\n",
    "It's different to all the other LLMs we've discussed today, which are known as \"Auto-Regressive LLMs\", and generate future tokens based only on past context.\n",
    "\n",
    "Another example of an Auto-Encoding LLMs is BERT from Google. In addition to embedding, Auto-encoding LLMs are often used for classification."
   ]
  },
  {
   "cell_type": "markdown",
   "id": "98c1656a",
   "metadata": {},
   "source": [
    "## Models Benchmark"
   ]
  },
  {
   "cell_type": "code",
   "execution_count": 6,
   "id": "538f4873",
   "metadata": {},
   "outputs": [
    {
     "name": "stdout",
     "output_type": "stream",
     "text": [
      "Vectorstore created with 44 documents\n",
      "\n",
      "🔸 Resultados com MXBAI:\n",
      "- # Manual de Operação - Mandrilhadora Portátil S50\n",
      "\n",
      "Guia prático de uso e segurança para operação da  ...\n",
      "- ## Ficha Técnica S50 ...\n",
      "- # Manual Técnico – Mandrilhadora Portátil S50 (40–300mm)\n",
      "\n",
      "Este documento apresenta as especificações ...\n"
     ]
    }
   ],
   "source": [
    "from langchain_ollama import OllamaEmbeddings\n",
    "# VectorDataStore import below !!!\n",
    "from langchain_chroma import Chroma\n",
    "\n",
    "# from langchain.embeddings import HuggingFaceEmbeddings\n",
    "# embeddings = HuggingFaceEmbeddings(model_name=\"sentence-transformers/all-MiniLM-L6-v2\")\n",
    "\n",
    "def build_vectorstore(model_name: str, documents, persist_directory: str):\n",
    "    if os.path.exists(persist_directory):\n",
    "        Chroma(persist_directory=persist_directory, embedding_function=embeddings).delete_collection()\n",
    "    \n",
    "    embeddings = OllamaEmbeddings(\n",
    "        model=model_name,\n",
    "        base_url=\"http://localhost:11434\"\n",
    "    )\n",
    "    return Chroma.from_documents(\n",
    "        documents=documents,\n",
    "        embedding=embeddings,\n",
    "        persist_directory=persist_directory\n",
    "    )\n",
    "    \n",
    "# vector_llama = build_vectorstore(\"llama3.2\", chunks, \"chroma_llama3\")\n",
    "vector_mxbai = build_vectorstore(\"mxbai-embed-large\", chunks, \"knowledge-base/chroma_mxbai\")\n",
    "\n",
    "# print(f\"Vectorstore created with {vector_llama._collection.count()} documents\")\n",
    "print(f\"Vectorstore created with {vector_mxbai._collection.count()} documents\")\n",
    "\n",
    "query = \"Como funciona a mandrilhadora S50?\"\n",
    "\n",
    "# print(\"\\n🔹 Resultados com LLaMA3:\")\n",
    "# for doc in vector_llama.similarity_search(query, k=3):\n",
    "#     print(\"-\", doc.page_content[:100], \"...\")\n",
    "\n",
    "\n",
    "# MELHOR MODELO !!!\n",
    "print(\"\\n🔸 Resultados com MXBAI:\")\n",
    "for doc in vector_mxbai.similarity_search(query, k=3):\n",
    "    print(\"-\", doc.page_content[:100], \"...\")\n",
    "\n"
   ]
  },
  {
   "cell_type": "code",
   "execution_count": 7,
   "id": "057868f6-51a6-4087-94d1-380145821550",
   "metadata": {},
   "outputs": [
    {
     "name": "stdout",
     "output_type": "stream",
     "text": [
      "The vectors have 1,024 dimensions\n"
     ]
    }
   ],
   "source": [
    "# Get one vector and find how many dimensions it has\n",
    "\n",
    "collection = vector_mxbai._collection\n",
    "sample_embedding = collection.get(limit=1, include=[\"embeddings\"])[\"embeddings\"][0]\n",
    "dimensions = len(sample_embedding)\n",
    "print(f\"The vectors have {dimensions:,} dimensions\")"
   ]
  },
  {
   "cell_type": "markdown",
   "id": "b0d45462-a818-441c-b010-b85b32bcf618",
   "metadata": {},
   "source": [
    "## Visualizing the Vector Store\n",
    "\n",
    "Let's take a minute to look at the documents and their embedding vectors to see what's going on."
   ]
  },
  {
   "cell_type": "code",
   "execution_count": 8,
   "id": "b98adf5e-d464-4bd2-9bdf-bc5b6770263b",
   "metadata": {},
   "outputs": [],
   "source": [
    "# Prework\n",
    "\n",
    "import numpy as np\n",
    "\n",
    "result = collection.get(include=['embeddings', 'documents', 'metadatas'])\n",
    "vectors = np.array(result['embeddings'])\n",
    "documents = result['documents']\n",
    "doc_types = [metadata['doc_type'] for metadata in result['metadatas']]\n",
    "colors = [['blue', 'green', 'red', 'orange'][['products', 'about'].index(t)] for t in doc_types]"
   ]
  },
  {
   "cell_type": "code",
   "execution_count": 9,
   "id": "427149d5-e5d8-4abd-bb6f-7ef0333cca21",
   "metadata": {},
   "outputs": [],
   "source": [
    "from sklearn.manifold import TSNE\n",
    "import plotly.graph_objects as go\n",
    "import plotly.io as pio\n",
    "\n",
    "# Força o uso do navegador para visualizar o gráfico\n",
    "pio.renderers.default = 'browser'\n",
    "\n",
    "# Reduz vetores para 2D usando t-SNE\n",
    "tsne = TSNE(n_components=2, random_state=42)\n",
    "reduced_vectors = tsne.fit_transform(vectors)\n",
    "\n",
    "# Cria gráfico de dispersão 2D\n",
    "fig = go.Figure(data=[go.Scatter(\n",
    "    x=reduced_vectors[:, 0],\n",
    "    y=reduced_vectors[:, 1],\n",
    "    mode='markers',\n",
    "    marker=dict(size=5, color=colors, opacity=0.8),\n",
    "    text=[f\"Type: {t}<br>Text: {d[:100]}...\" for t, d in zip(doc_types, documents)],\n",
    "    hoverinfo='text'\n",
    ")])\n",
    "\n",
    "fig.update_layout(\n",
    "    title='2D Chroma Vector Store Visualization',\n",
    "    scene=dict(xaxis_title='x', yaxis_title='y'),\n",
    "    width=800,\n",
    "    height=600,\n",
    "    margin=dict(r=20, b=10, l=10, t=40)\n",
    ")\n",
    "\n",
    "fig.show()"
   ]
  },
  {
   "cell_type": "code",
   "execution_count": 10,
   "id": "e1418e88-acd5-460a-bf2b-4e6efc88e3dd",
   "metadata": {},
   "outputs": [],
   "source": [
    "# Let's try 3D!\n",
    "\n",
    "tsne = TSNE(n_components=3, random_state=42)\n",
    "reduced_vectors = tsne.fit_transform(vectors)\n",
    "\n",
    "# Create the 3D scatter plot\n",
    "fig = go.Figure(data=[go.Scatter3d(\n",
    "    x=reduced_vectors[:, 0],\n",
    "    y=reduced_vectors[:, 1],\n",
    "    z=reduced_vectors[:, 2],\n",
    "    mode='markers',\n",
    "    marker=dict(size=5, color=colors, opacity=0.8),\n",
    "    text=[f\"Type: {t}<br>Text: {d[:100]}...\" for t, d in zip(doc_types, documents)],\n",
    "    hoverinfo='text'\n",
    ")])\n",
    "\n",
    "fig.update_layout(\n",
    "    title='3D Chroma Vector Store Visualization',\n",
    "    scene=dict(xaxis_title='x', yaxis_title='y', zaxis_title='z'),\n",
    "    width=900,\n",
    "    height=700,\n",
    "    margin=dict(r=20, b=10, l=10, t=40)\n",
    ")\n",
    "\n",
    "fig.show()"
   ]
  },
  {
   "cell_type": "markdown",
   "id": "5f061990",
   "metadata": {},
   "source": [
    "### Load existing Vector DB"
   ]
  },
  {
   "cell_type": "code",
   "execution_count": 12,
   "id": "0aec88a7",
   "metadata": {},
   "outputs": [
    {
     "name": "stdout",
     "output_type": "stream",
     "text": [
      "- [products] # Manual de Operação - Mandrilhadora Portátil S50\n",
      "\n",
      "Guia prático de uso e segurança para operação da Mandrilhadora S50  \n",
      "Preparado por: JVF Máquinas\n",
      "\n",
      "---\n",
      "\n",
      "## 1. Fixação da Barra ao Eixo\n",
      "\n",
      "- Configure os...\n",
      "\n",
      "- [products] ## Ficha Técnica S50...\n",
      "\n",
      "- [products] # Manual Técnico – Mandrilhadora Portátil S50 (40–300mm)\n",
      "\n",
      "Este documento apresenta as especificações técnicas, componentes, funcionalidades e informações de contato da **Mandrilhadora Portátil S50**, ...\n",
      "\n"
     ]
    }
   ],
   "source": [
    "from langchain_chroma import Chroma\n",
    "from langchain_ollama import OllamaEmbeddings\n",
    "\n",
    "# Define o modelo de embedding usado anteriormente\n",
    "embeddings = OllamaEmbeddings(\n",
    "    model=\"mxbai-embed-large\",  # ou \"llama3.2\", se for o caso\n",
    "    base_url=\"http://localhost:11434\"\n",
    ")\n",
    "\n",
    "# Carrega a base vetorial já salva no disco\n",
    "vectorstore = Chroma(\n",
    "    persist_directory=\"knowledge-base/chroma_mxbai\",\n",
    "    embedding_function=embeddings\n",
    ")\n",
    "\n",
    "# Pronto para usar!\n",
    "results = vectorstore.similarity_search(\"Como funciona a mandrilhadora S50?\", k=3)\n",
    "for r in results:\n",
    "    print(f\"- [{r.metadata.get('doc_type', 'sem tipo')}] {r.page_content[:200]}...\\n\")\n",
    "\n"
   ]
  }
 ],
 "metadata": {
  "kernelspec": {
   "display_name": "venv",
   "language": "python",
   "name": "python3"
  },
  "language_info": {
   "codemirror_mode": {
    "name": "ipython",
    "version": 3
   },
   "file_extension": ".py",
   "mimetype": "text/x-python",
   "name": "python",
   "nbconvert_exporter": "python",
   "pygments_lexer": "ipython3",
   "version": "3.12.6"
  }
 },
 "nbformat": 4,
 "nbformat_minor": 5
}
